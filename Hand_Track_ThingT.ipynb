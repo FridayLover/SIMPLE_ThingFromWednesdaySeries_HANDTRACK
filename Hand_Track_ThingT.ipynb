{
 "cells": [
  {
   "cell_type": "code",
   "execution_count": null,
   "metadata": {
    "colab": {
     "base_uri": "https://localhost:8080/"
    },
    "id": "H2QoJdynb4tv",
    "outputId": "048afa7a-d798-42d5-ae46-3969a554d3af",
    "scrolled": true
   },
   "outputs": [],
   "source": [
    "!pip install mediapipe\n",
    "!pip install opencv-python"
   ]
  },
  {
   "cell_type": "code",
   "execution_count": null,
   "metadata": {
    "id": "-iHbhsw6cVwC"
   },
   "outputs": [],
   "source": [
    "import cv2\n",
    "import mediapipe as mp"
   ]
  },
  {
   "cell_type": "markdown",
   "metadata": {
    "id": "fBRkfCB3hJbb"
   },
   "source": [
    "# Input"
   ]
  },
  {
   "cell_type": "markdown",
   "metadata": {
    "id": "5v8Z7eg5hMPr"
   },
   "source": [
    "camera"
   ]
  },
  {
   "cell_type": "code",
   "execution_count": null,
   "metadata": {
    "id": "rzFoss77caYk"
   },
   "outputs": [],
   "source": [
    "main_webcam = cv2.VideoCapture(0)"
   ]
  },
  {
   "cell_type": "code",
   "execution_count": null,
   "metadata": {
    "colab": {
     "base_uri": "https://localhost:8080/"
    },
    "id": "eZpijUKAhYM_",
    "outputId": "ca3e6f84-f9ae-47fc-a5a5-9b1c5a54d595"
   },
   "outputs": [],
   "source": [
    "main_webcam.read()"
   ]
  },
  {
   "cell_type": "markdown",
   "metadata": {
    "id": "XpSyRWiwiLQ9"
   },
   "source": [
    "Hand Ref"
   ]
  },
  {
   "cell_type": "code",
   "execution_count": null,
   "metadata": {
    "id": "zeRZWEl3iM6P"
   },
   "outputs": [],
   "source": [
    "mp_hands = mp.solutions.hands"
   ]
  },
  {
   "cell_type": "code",
   "execution_count": null,
   "metadata": {
    "id": "s-3rqGfuiT6i"
   },
   "outputs": [],
   "source": [
    "hands = mp_hands.Hands()"
   ]
  },
  {
   "cell_type": "code",
   "execution_count": null,
   "metadata": {},
   "outputs": [],
   "source": [
    "mp_draw = mp.solutions.drawing_utils"
   ]
  },
  {
   "cell_type": "markdown",
   "metadata": {
    "id": "CbqOc2Y4olhY"
   },
   "source": [
    "# Show Thing"
   ]
  },
  {
   "cell_type": "code",
   "execution_count": null,
   "metadata": {
    "colab": {
     "base_uri": "https://localhost:8080/",
     "height": 232
    },
    "id": "8lRdL60nopQ4",
    "outputId": "7590482d-8316-4caf-b631-7ea5d9663321",
    "scrolled": true
   },
   "outputs": [],
   "source": [
    "while True:\n",
    "    value, image = main_webcam.read()\n",
    "    image_rgb = cv2.cvtColor(image, cv2.COLOR_BGR2RGB)\n",
    "    results = hands.process(image_rgb)\n",
    "    if results.multi_hand_landmarks:\n",
    "        for landmark in results.multi_hand_landmarks:\n",
    "            mp_draw.draw_landmarks(image, landmark, mp_hands.HAND_CONNECTIONS)\n",
    "            lm_list =[]\n",
    "            for id, lm in enumerate(landmark.landmark):\n",
    "                lm_list.append(lm)\n",
    "            \n",
    "            \n",
    "            if lm_list[0].y < lm_list[4].y and lm_list[0].y < lm_list[8].y and lm_list[0].y < lm_list[12].y \\\n",
    "                and lm_list[0].y < lm_list[16].y and lm_list[0].y < lm_list[20].y:\n",
    "                cv2.putText(image, \"Thing Standing\", (550, 30), cv2.FONT_HERSHEY_TRIPLEX, 1, (150, 30, 130), 3)      \n",
    "            elif lm_list[8].y > lm_list[12].y and lm_list[16].y > lm_list[12].y and lm_list[16].y < lm_list[20].y \\\n",
    "                and lm_list[20].y < lm_list[4].y and lm_list[4].y < lm_list[0].y:\n",
    "                cv2.putText(image, \"Thing Greeting\", (550, 30), cv2.FONT_HERSHEY_TRIPLEX, 1, (150, 30, 130), 3)\n",
    "            elif lm_list[12].y < lm_list[4].y and lm_list[12].y < lm_list[8].y and lm_list[12].y < lm_list[0].y \\\n",
    "                and lm_list[12].y < lm_list[16].y and lm_list[12].y < lm_list[20].y and lm_list[8].y > lm_list[4].y:\n",
    "                cv2.putText(image, \"Thing f*ck u\", (550, 30), cv2.FONT_HERSHEY_TRIPLEX, 1, (150, 30, 130), 3)\n",
    "            elif lm_list[4].y < lm_list[7].y and lm_list[4].y < lm_list[12].y and lm_list[4].y < lm_list[16].y \\\n",
    "                and lm_list[4].y < lm_list[20].y and lm_list[8].y < lm_list[0].y and lm_list[12].x < lm_list[9].x:\n",
    "                cv2.putText(image, \"Thing Thumb-up\", (550, 30), cv2.FONT_HERSHEY_TRIPLEX, 1, (150, 30, 130), 3)\n",
    "            #เอาไว้ทำให้ดู\n",
    "\n",
    "    cv2.imshow(\"Camera\", image)\n",
    "    cv2.waitKey(1)"
   ]
  },
  {
   "cell_type": "code",
   "execution_count": null,
   "metadata": {},
   "outputs": [],
   "source": []
  }
 ],
 "metadata": {
  "colab": {
   "provenance": []
  },
  "kernelspec": {
   "display_name": "Python 3 (ipykernel)",
   "language": "python",
   "name": "python3"
  },
  "language_info": {
   "codemirror_mode": {
    "name": "ipython",
    "version": 3
   },
   "file_extension": ".py",
   "mimetype": "text/x-python",
   "name": "python",
   "nbconvert_exporter": "python",
   "pygments_lexer": "ipython3",
   "version": "3.9.13"
  }
 },
 "nbformat": 4,
 "nbformat_minor": 1
}
